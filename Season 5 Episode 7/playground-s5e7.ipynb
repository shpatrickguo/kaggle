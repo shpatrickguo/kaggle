{
 "cells": [
  {
   "cell_type": "markdown",
   "id": "cde96a72",
   "metadata": {
    "papermill": {
     "duration": 0.005878,
     "end_time": "2025-07-03T14:44:16.632971",
     "exception": false,
     "start_time": "2025-07-03T14:44:16.627093",
     "status": "completed"
    },
    "tags": []
   },
   "source": [
    "# Predict the Introverts from the Extroverts"
   ]
  },
  {
   "cell_type": "markdown",
   "id": "7d9637bc",
   "metadata": {
    "_kg_hide-input": true,
    "papermill": {
     "duration": 0.004743,
     "end_time": "2025-07-03T14:44:16.643189",
     "exception": false,
     "start_time": "2025-07-03T14:44:16.638446",
     "status": "completed"
    },
    "tags": []
   },
   "source": [
    "## Imports"
   ]
  },
  {
   "cell_type": "code",
   "execution_count": 1,
   "id": "e94f45e0",
   "metadata": {
    "_kg_hide-input": true,
    "_kg_hide-output": true,
    "execution": {
     "iopub.execute_input": "2025-07-03T14:44:16.654883Z",
     "iopub.status.busy": "2025-07-03T14:44:16.653968Z",
     "iopub.status.idle": "2025-07-03T14:44:26.700956Z",
     "shell.execute_reply": "2025-07-03T14:44:26.700232Z"
    },
    "papermill": {
     "duration": 10.054539,
     "end_time": "2025-07-03T14:44:26.702580",
     "exception": false,
     "start_time": "2025-07-03T14:44:16.648041",
     "status": "completed"
    },
    "tags": []
   },
   "outputs": [],
   "source": [
    "import polars as pl\n",
    "import pandas as pd\n",
    "import numpy as np\n",
    "import matplotlib.pyplot as plt\n",
    "from IPython.display import clear_output\n",
    "from sklearn.model_selection import StratifiedKFold\n",
    "from sklearn.pipeline import Pipeline\n",
    "from sklearn.compose import ColumnTransformer\n",
    "from sklearn.impute import SimpleImputer\n",
    "from sklearn.preprocessing import MinMaxScaler, OrdinalEncoder\n",
    "from sklearn.linear_model import LogisticRegression\n",
    "from sklearn.ensemble import RandomForestClassifier\n",
    "from xgboost import XGBClassifier\n",
    "from lightgbm import LGBMClassifier\n",
    "from catboost import CatBoostClassifier\n",
    "from sklearn.svm import SVC\n",
    "from sklearn.neural_network import MLPClassifier\n",
    "from sklearn.metrics import accuracy_score\n",
    "import optuna\n",
    "from sklearn.model_selection import cross_val_score\n",
    "from sklearn.ensemble import VotingClassifier"
   ]
  },
  {
   "cell_type": "markdown",
   "id": "622236a7",
   "metadata": {
    "papermill": {
     "duration": 0.004797,
     "end_time": "2025-07-03T14:44:26.712584",
     "exception": false,
     "start_time": "2025-07-03T14:44:26.707787",
     "status": "completed"
    },
    "tags": []
   },
   "source": [
    "## About the Data\n",
    "The data for this competition was generated using a deep learning model trained on the [Extrovert vs. Introvert Behavior dataset](https://www.kaggle.com/datasets/rakeshkapilavai/extrovert-vs-introvert-behavior-data/data). While the feature distributions closely resemble the original dataset, they are not identical.\n",
    "\n",
    "The original dataset, provided by Rakesh Kapilavayi, was collected through Google Forms as part of a college research project exploring personality traits and behavioral tendencies among students. Participants answered survey questions using a 0–10 scale, which ensured consistency and simplicity in the responses.\n",
    "For more details, see the [discussion here](https://www.kaggle.com/datasets/rakeshkapilavai/extrovert-vs-introvert-behavior-data/discussion/583203#3218290).\n",
    "\n",
    "- Competition data: [Playground Series S5E7 Data](https://www.kaggle.com/competitions/playground-series-s5e7/data)\n",
    "- Original dataset: [Extrovert vs. Introvert Behavior Data](https://www.kaggle.com/datasets/rakeshkapilavai/extrovert-vs-introvert-behavior-data/data)\n",
    "\n",
    "I simply concatenated the original and generated datasets for training, as their feature distributions are similar and both are relatively small in size. This method is more suitable than oversampling or weighting because it maximizes the use of all available data without introducing unnecessary complexity or artificial duplication."
   ]
  },
  {
   "cell_type": "code",
   "execution_count": 2,
   "id": "cc249572",
   "metadata": {
    "_cell_guid": "b1076dfc-b9ad-4769-8c92-a6c4dae69d19",
    "_kg_hide-input": true,
    "_uuid": "8f2839f25d086af736a60e9eeb907d3b93b6e0e5",
    "execution": {
     "iopub.execute_input": "2025-07-03T14:44:26.724345Z",
     "iopub.status.busy": "2025-07-03T14:44:26.723251Z",
     "iopub.status.idle": "2025-07-03T14:44:26.937902Z",
     "shell.execute_reply": "2025-07-03T14:44:26.937177Z"
    },
    "papermill": {
     "duration": 0.221986,
     "end_time": "2025-07-03T14:44:26.939482",
     "exception": false,
     "start_time": "2025-07-03T14:44:26.717496",
     "status": "completed"
    },
    "tags": []
   },
   "outputs": [],
   "source": [
    "# File paths\n",
    "competition_train_path = \"/kaggle/input/playground-series-s5e7/train.csv\"\n",
    "competition_test_path = \"/kaggle/input/playground-series-s5e7/test.csv\"\n",
    "original_data_path = \"/kaggle/input/extrovert-vs-introvert-behavior-data/personality_dataset.csv\"\n",
    "\n",
    "# Load datasets\n",
    "competition_data = pl.read_csv(competition_train_path)\n",
    "original_data = pl.read_csv(original_data_path)\n",
    "\n",
    "# Split features (train) and target (test) for both datasets\n",
    "competition_features = competition_data.select([col for col in competition_data.columns[:-1] if col != \"id\"])\n",
    "competition_target = competition_data.select(competition_data.columns[-1])\n",
    "original_features = original_data.select(original_data.columns[:-1])\n",
    "original_target = original_data.select(original_data.columns[-1])\n",
    "\n",
    "# Concatenate both datasets\n",
    "combined_train = pl.concat([competition_features, original_features], how=\"vertical\")\n",
    "combined_target = pl.concat([competition_target, original_target], how=\"vertical\")"
   ]
  },
  {
   "cell_type": "markdown",
   "id": "affda5ad",
   "metadata": {
    "papermill": {
     "duration": 0.004883,
     "end_time": "2025-07-03T14:44:26.949424",
     "exception": false,
     "start_time": "2025-07-03T14:44:26.944541",
     "status": "completed"
    },
    "tags": []
   },
   "source": [
    "## EDA\n",
    "- **Rows:** 21424 (18524 generated, 2900 original)\n",
    "- **Features:** 7\n",
    "\n",
    "### Features:\n",
    "- Time_spent_Alone (numeric, hours per week)\n",
    "- Stage_fear (categorical, Yes/No)\n",
    "- Social_event_attendance (numeric, events per month)\n",
    "- Going_outside (numeric, outings per week)\n",
    "- Drained_after_socializing (categorical, Yes/No)\n",
    "- Friends_circle_size (numeric)\n",
    "- Post_frequency (numeric, posts per week)\n",
    "\n",
    "### Outliers\n",
    "No outliers detected using the IQR rule.\n",
    "\n",
    "### Missing Values\n",
    "Since the **missing percentage for all columns falls within the moderate range of 5–30%**, the best approach is to **impute missing values** rather than drop rows or columns. \n",
    "\n",
    "### Target Variable\n",
    "**Target Variable Distribution** is imbalanced with significantly more extroverts than introverts."
   ]
  },
  {
   "cell_type": "code",
   "execution_count": 3,
   "id": "2535f77f",
   "metadata": {
    "_kg_hide-input": true,
    "execution": {
     "iopub.execute_input": "2025-07-03T14:44:26.960357Z",
     "iopub.status.busy": "2025-07-03T14:44:26.960022Z",
     "iopub.status.idle": "2025-07-03T14:44:26.978013Z",
     "shell.execute_reply": "2025-07-03T14:44:26.977008Z"
    },
    "papermill": {
     "duration": 0.025127,
     "end_time": "2025-07-03T14:44:26.979394",
     "exception": false,
     "start_time": "2025-07-03T14:44:26.954267",
     "status": "completed"
    },
    "tags": []
   },
   "outputs": [
    {
     "name": "stdout",
     "output_type": "stream",
     "text": [
      "Rows: 21424\n",
      "Columns: 7\n",
      "$ Time_spent_Alone          <f64> 0.0, 1.0, 6.0, 3.0, 1.0\n",
      "$ Stage_fear                <str> 'No', 'No', 'Yes', 'No', 'No'\n",
      "$ Social_event_attendance   <f64> 6.0, 7.0, 1.0, 7.0, 4.0\n",
      "$ Going_outside             <f64> 4.0, 3.0, 0.0, 3.0, 4.0\n",
      "$ Drained_after_socializing <str> 'No', 'No', None, 'No', 'No'\n",
      "$ Friends_circle_size       <f64> 15.0, 10.0, 3.0, 11.0, 13.0\n",
      "$ Post_frequency            <f64> 5.0, 8.0, 0.0, 5.0, None\n",
      "\n"
     ]
    }
   ],
   "source": [
    "combined_train.glimpse(max_items_per_column=5)"
   ]
  },
  {
   "cell_type": "code",
   "execution_count": 4,
   "id": "4f7fc4b4",
   "metadata": {
    "_kg_hide-input": true,
    "execution": {
     "iopub.execute_input": "2025-07-03T14:44:26.990910Z",
     "iopub.status.busy": "2025-07-03T14:44:26.990417Z",
     "iopub.status.idle": "2025-07-03T14:44:27.079137Z",
     "shell.execute_reply": "2025-07-03T14:44:27.078314Z"
    },
    "papermill": {
     "duration": 0.096026,
     "end_time": "2025-07-03T14:44:27.080549",
     "exception": false,
     "start_time": "2025-07-03T14:44:26.984523",
     "status": "completed"
    },
    "tags": []
   },
   "outputs": [
    {
     "data": {
      "text/html": [
       "<div><style>\n",
       ".dataframe > thead > tr,\n",
       ".dataframe > tbody > tr {\n",
       "  text-align: right;\n",
       "  white-space: pre-wrap;\n",
       "}\n",
       "</style>\n",
       "<small>shape: (9, 8)</small><table border=\"1\" class=\"dataframe\"><thead><tr><th>statistic</th><th>Time_spent_Alone</th><th>Stage_fear</th><th>Social_event_attendance</th><th>Going_outside</th><th>Drained_after_socializing</th><th>Friends_circle_size</th><th>Post_frequency</th></tr><tr><td>str</td><td>f64</td><td>str</td><td>f64</td><td>f64</td><td>str</td><td>f64</td><td>f64</td></tr></thead><tbody><tr><td>&quot;count&quot;</td><td>20171.0</td><td>&quot;19458&quot;</td><td>20182.0</td><td>19892.0</td><td>&quot;20223&quot;</td><td>20293.0</td><td>20095.0</td></tr><tr><td>&quot;null_count&quot;</td><td>1253.0</td><td>&quot;1966&quot;</td><td>1242.0</td><td>1532.0</td><td>&quot;1201&quot;</td><td>1131.0</td><td>1329.0</td></tr><tr><td>&quot;mean&quot;</td><td>3.330177</td><td>null</td><td>5.082053</td><td>3.895536</td><td>null</td><td>7.756369</td><td>4.782135</td></tr><tr><td>&quot;std&quot;</td><td>3.111568</td><td>null</td><td>2.811595</td><td>2.121479</td><td>null</td><td>4.27468</td><td>2.927682</td></tr><tr><td>&quot;min&quot;</td><td>0.0</td><td>&quot;No&quot;</td><td>0.0</td><td>0.0</td><td>&quot;No&quot;</td><td>0.0</td><td>0.0</td></tr><tr><td>&quot;25%&quot;</td><td>1.0</td><td>null</td><td>3.0</td><td>2.0</td><td>null</td><td>4.0</td><td>2.0</td></tr><tr><td>&quot;50%&quot;</td><td>2.0</td><td>null</td><td>5.0</td><td>4.0</td><td>null</td><td>8.0</td><td>5.0</td></tr><tr><td>&quot;75%&quot;</td><td>5.0</td><td>null</td><td>7.0</td><td>6.0</td><td>null</td><td>11.0</td><td>7.0</td></tr><tr><td>&quot;max&quot;</td><td>11.0</td><td>&quot;Yes&quot;</td><td>10.0</td><td>7.0</td><td>&quot;Yes&quot;</td><td>15.0</td><td>10.0</td></tr></tbody></table></div>"
      ],
      "text/plain": [
       "shape: (9, 8)\n",
       "┌────────────┬────────────┬────────────┬───────────┬───────────┬───────────┬───────────┬───────────┐\n",
       "│ statistic  ┆ Time_spent ┆ Stage_fear ┆ Social_ev ┆ Going_out ┆ Drained_a ┆ Friends_c ┆ Post_freq │\n",
       "│ ---        ┆ _Alone     ┆ ---        ┆ ent_atten ┆ side      ┆ fter_soci ┆ ircle_siz ┆ uency     │\n",
       "│ str        ┆ ---        ┆ str        ┆ dance     ┆ ---       ┆ alizing   ┆ e         ┆ ---       │\n",
       "│            ┆ f64        ┆            ┆ ---       ┆ f64       ┆ ---       ┆ ---       ┆ f64       │\n",
       "│            ┆            ┆            ┆ f64       ┆           ┆ str       ┆ f64       ┆           │\n",
       "╞════════════╪════════════╪════════════╪═══════════╪═══════════╪═══════════╪═══════════╪═══════════╡\n",
       "│ count      ┆ 20171.0    ┆ 19458      ┆ 20182.0   ┆ 19892.0   ┆ 20223     ┆ 20293.0   ┆ 20095.0   │\n",
       "│ null_count ┆ 1253.0     ┆ 1966       ┆ 1242.0    ┆ 1532.0    ┆ 1201      ┆ 1131.0    ┆ 1329.0    │\n",
       "│ mean       ┆ 3.330177   ┆ null       ┆ 5.082053  ┆ 3.895536  ┆ null      ┆ 7.756369  ┆ 4.782135  │\n",
       "│ std        ┆ 3.111568   ┆ null       ┆ 2.811595  ┆ 2.121479  ┆ null      ┆ 4.27468   ┆ 2.927682  │\n",
       "│ min        ┆ 0.0        ┆ No         ┆ 0.0       ┆ 0.0       ┆ No        ┆ 0.0       ┆ 0.0       │\n",
       "│ 25%        ┆ 1.0        ┆ null       ┆ 3.0       ┆ 2.0       ┆ null      ┆ 4.0       ┆ 2.0       │\n",
       "│ 50%        ┆ 2.0        ┆ null       ┆ 5.0       ┆ 4.0       ┆ null      ┆ 8.0       ┆ 5.0       │\n",
       "│ 75%        ┆ 5.0        ┆ null       ┆ 7.0       ┆ 6.0       ┆ null      ┆ 11.0      ┆ 7.0       │\n",
       "│ max        ┆ 11.0       ┆ Yes        ┆ 10.0      ┆ 7.0       ┆ Yes       ┆ 15.0      ┆ 10.0      │\n",
       "└────────────┴────────────┴────────────┴───────────┴───────────┴───────────┴───────────┴───────────┘"
      ]
     },
     "execution_count": 4,
     "metadata": {},
     "output_type": "execute_result"
    }
   ],
   "source": [
    "combined_train.describe()"
   ]
  },
  {
   "cell_type": "code",
   "execution_count": 5,
   "id": "c633ef31",
   "metadata": {
    "_kg_hide-input": true,
    "execution": {
     "iopub.execute_input": "2025-07-03T14:44:27.092798Z",
     "iopub.status.busy": "2025-07-03T14:44:27.092101Z",
     "iopub.status.idle": "2025-07-03T14:44:27.097912Z",
     "shell.execute_reply": "2025-07-03T14:44:27.097127Z"
    },
    "papermill": {
     "duration": 0.013156,
     "end_time": "2025-07-03T14:44:27.099117",
     "exception": false,
     "start_time": "2025-07-03T14:44:27.085961",
     "status": "completed"
    },
    "tags": []
   },
   "outputs": [],
   "source": [
    "def get_numerical_and_categorical_columns(df: pl.DataFrame):\n",
    "    \"\"\"\n",
    "    Returns two lists of column names: (numerical_columns, categorical_columns)\n",
    "    for the given Polars DataFrame.\n",
    "    \"\"\"\n",
    "    numeric_types = {\n",
    "        pl.Int8, pl.Int16, pl.Int32, pl.Int64,\n",
    "        pl.UInt8, pl.UInt16, pl.UInt32, pl.UInt64,\n",
    "        pl.Float32, pl.Float64\n",
    "    }\n",
    "    numerical_cols = [col for col, dtype in df.schema.items() if dtype in numeric_types]\n",
    "    categorical_cols = [col for col, dtype in df.schema.items() if dtype in {pl.Utf8, pl.Categorical}]\n",
    "    return numerical_cols, categorical_cols"
   ]
  },
  {
   "cell_type": "code",
   "execution_count": 6,
   "id": "2a7bc53b",
   "metadata": {
    "_kg_hide-input": true,
    "execution": {
     "iopub.execute_input": "2025-07-03T14:44:27.111888Z",
     "iopub.status.busy": "2025-07-03T14:44:27.111219Z",
     "iopub.status.idle": "2025-07-03T14:44:27.115836Z",
     "shell.execute_reply": "2025-07-03T14:44:27.115032Z"
    },
    "papermill": {
     "duration": 0.012116,
     "end_time": "2025-07-03T14:44:27.117216",
     "exception": false,
     "start_time": "2025-07-03T14:44:27.105100",
     "status": "completed"
    },
    "tags": []
   },
   "outputs": [
    {
     "name": "stdout",
     "output_type": "stream",
     "text": [
      "Numerical columns:\n",
      "['Time_spent_Alone', 'Social_event_attendance', 'Going_outside', 'Friends_circle_size', 'Post_frequency']\n",
      "Categorical columns:\n",
      "['Stage_fear', 'Drained_after_socializing']\n"
     ]
    }
   ],
   "source": [
    "numerical_cols, categorical_cols = get_numerical_and_categorical_columns(combined_train)\n",
    "print(\"Numerical columns:\")\n",
    "print(numerical_cols)\n",
    "print(\"Categorical columns:\")\n",
    "print(categorical_cols)"
   ]
  },
  {
   "cell_type": "code",
   "execution_count": 7,
   "id": "e3bbaa2f",
   "metadata": {
    "_kg_hide-input": true,
    "execution": {
     "iopub.execute_input": "2025-07-03T14:44:27.128989Z",
     "iopub.status.busy": "2025-07-03T14:44:27.128656Z",
     "iopub.status.idle": "2025-07-03T14:44:27.133973Z",
     "shell.execute_reply": "2025-07-03T14:44:27.133125Z"
    },
    "papermill": {
     "duration": 0.012715,
     "end_time": "2025-07-03T14:44:27.135263",
     "exception": false,
     "start_time": "2025-07-03T14:44:27.122548",
     "status": "completed"
    },
    "tags": []
   },
   "outputs": [],
   "source": [
    "def has_outliers(df: pl.DataFrame, col: str) -> bool:\n",
    "    q1 = df.select(pl.col(col).quantile(0.25)).item()\n",
    "    q3 = df.select(pl.col(col).quantile(0.75)).item()\n",
    "    iqr = q3 - q1\n",
    "    lower = q1 - 1.5 * iqr\n",
    "    upper = q3 + 1.5 * iqr\n",
    "    outlier_count = df.filter((pl.col(col) < lower) | (pl.col(col) > upper)).height\n",
    "    return outlier_count > 0"
   ]
  },
  {
   "cell_type": "code",
   "execution_count": 8,
   "id": "de76cf57",
   "metadata": {
    "_kg_hide-input": true,
    "execution": {
     "iopub.execute_input": "2025-07-03T14:44:27.146894Z",
     "iopub.status.busy": "2025-07-03T14:44:27.146583Z",
     "iopub.status.idle": "2025-07-03T14:44:27.175680Z",
     "shell.execute_reply": "2025-07-03T14:44:27.174646Z"
    },
    "papermill": {
     "duration": 0.03667,
     "end_time": "2025-07-03T14:44:27.177291",
     "exception": false,
     "start_time": "2025-07-03T14:44:27.140621",
     "status": "completed"
    },
    "tags": []
   },
   "outputs": [
    {
     "name": "stdout",
     "output_type": "stream",
     "text": [
      "Contains Outliers:\n",
      "Time_spent_Alone:False\n",
      "Social_event_attendance:False\n",
      "Going_outside:False\n",
      "Friends_circle_size:False\n",
      "Post_frequency:False\n"
     ]
    }
   ],
   "source": [
    "print(\"Contains Outliers:\")\n",
    "for col in numerical_cols:\n",
    "    print(f\"{col}:{has_outliers(combined_train, col)}\")"
   ]
  },
  {
   "cell_type": "code",
   "execution_count": 9,
   "id": "da692678",
   "metadata": {
    "_kg_hide-input": true,
    "execution": {
     "iopub.execute_input": "2025-07-03T14:44:27.189129Z",
     "iopub.status.busy": "2025-07-03T14:44:27.188577Z",
     "iopub.status.idle": "2025-07-03T14:44:27.204375Z",
     "shell.execute_reply": "2025-07-03T14:44:27.203371Z"
    },
    "papermill": {
     "duration": 0.023271,
     "end_time": "2025-07-03T14:44:27.205928",
     "exception": false,
     "start_time": "2025-07-03T14:44:27.182657",
     "status": "completed"
    },
    "tags": []
   },
   "outputs": [
    {
     "name": "stdout",
     "output_type": "stream",
     "text": [
      "shape: (7, 3)\n",
      "┌───────────────────────────┬───────────────┬─────────────┐\n",
      "│ Feature                   ┆ missing_count ┆ missing_pct │\n",
      "│ ---                       ┆ ---           ┆ ---         │\n",
      "│ str                       ┆ i64           ┆ f64         │\n",
      "╞═══════════════════════════╪═══════════════╪═════════════╡\n",
      "│ Time_spent_Alone          ┆ 1253          ┆ 5.85        │\n",
      "│ Stage_fear                ┆ 1966          ┆ 9.18        │\n",
      "│ Social_event_attendance   ┆ 1242          ┆ 5.8         │\n",
      "│ Going_outside             ┆ 1532          ┆ 7.15        │\n",
      "│ Drained_after_socializing ┆ 1201          ┆ 5.61        │\n",
      "│ Friends_circle_size       ┆ 1131          ┆ 5.28        │\n",
      "│ Post_frequency            ┆ 1329          ┆ 6.2         │\n",
      "└───────────────────────────┴───────────────┴─────────────┘\n"
     ]
    }
   ],
   "source": [
    "row_count = combined_train.height\n",
    "\n",
    "# Get missing counts and percentages per column\n",
    "missing_counts = [\n",
    "    pl.col(col).is_null().sum().alias(\"missing_count\") for col in combined_train.columns\n",
    "]\n",
    "missing_pcts = [\n",
    "    (pl.col(col).is_null().sum() / row_count * 100).alias(\"missing_pct\") for col in combined_train.columns\n",
    "]\n",
    "\n",
    "# Combine into a single DataFrame\n",
    "summary = pl.DataFrame({\n",
    "    \"Feature\": combined_train.columns,\n",
    "    \"missing_count\": [combined_train.select(expr).item() for expr in missing_counts],\n",
    "    \"missing_pct\": [round(combined_train.select(expr).item(), 2) for expr in missing_pcts]\n",
    "})\n",
    "\n",
    "print(summary)"
   ]
  },
  {
   "cell_type": "code",
   "execution_count": 10,
   "id": "03012de6",
   "metadata": {
    "_kg_hide-input": true,
    "execution": {
     "iopub.execute_input": "2025-07-03T14:44:27.218827Z",
     "iopub.status.busy": "2025-07-03T14:44:27.218508Z",
     "iopub.status.idle": "2025-07-03T14:44:27.480267Z",
     "shell.execute_reply": "2025-07-03T14:44:27.479434Z"
    },
    "papermill": {
     "duration": 0.269506,
     "end_time": "2025-07-03T14:44:27.481664",
     "exception": false,
     "start_time": "2025-07-03T14:44:27.212158",
     "status": "completed"
    },
    "tags": []
   },
   "outputs": [
    {
     "data": {
      "image/png": "[encoded data removed]",
      "text/plain": [
       "<Figure size 640x480 with 1 Axes>"
      ]
     },
     "metadata": {},
     "output_type": "display_data"
    }
   ],
   "source": [
    "vc = (\n",
    "    combined_target.group_by(\"Personality\")\n",
    "      .len()\n",
    "      .with_columns(\n",
    "          (pl.col(\"len\") / pl.col(\"len\").sum() * 100).alias(\"pct\")\n",
    "      )\n",
    "      .sort(\"len\", descending=True)\n",
    ")\n",
    "\n",
    "labels = vc[\"Personality\"].to_list()\n",
    "counts = vc[\"len\"].to_list()\n",
    "pcts = vc[\"pct\"].to_list()\n",
    "\n",
    "bars = plt.bar(labels, counts, color=[\"#4f823d\", \"#c0504d\"])\n",
    "for bar, c, p in zip(bars, counts, pcts):\n",
    "    height = bar.get_height()\n",
    "    plt.text(\n",
    "        bar.get_x() + bar.get_width() / 2,   \n",
    "        height / 2,                           \n",
    "        f\"{c}\\n({p:.1f}%)\",\n",
    "        ha=\"center\", va=\"center\",\n",
    "        fontsize=12, color='white', fontweight='bold'\n",
    "    )\n",
    "plt.xlabel(\"Personality Type\")\n",
    "plt.ylabel(\"Count\")\n",
    "plt.title(\"Distribution of Personality Types with Count and Percentage\")\n",
    "plt.tight_layout()\n",
    "plt.show()"
   ]
  },
  {
   "cell_type": "markdown",
   "id": "3dc92707",
   "metadata": {
    "papermill": {
     "duration": 0.005666,
     "end_time": "2025-07-03T14:44:27.493665",
     "exception": false,
     "start_time": "2025-07-03T14:44:27.487999",
     "status": "completed"
    },
    "tags": []
   },
   "source": [
    "## Train Test Split\n",
    "\n",
    "I will employ **stratified k-fold cross-validation** because our **dataset has class imbalance**, and this method ensures that each fold maintains the same class proportions as the overall dataset, providing a more reliable and unbiased estimate of model performance. Cross-validation in general is valuable because it allows us to assess how well a **model will generalize to unseen data**, helps prevent overfitting, and provides a more accurate and robust evaluation than a single train-test split"
   ]
  },
  {
   "cell_type": "markdown",
   "id": "085cb6f1",
   "metadata": {
    "papermill": {
     "duration": 0.005695,
     "end_time": "2025-07-03T14:44:27.505294",
     "exception": false,
     "start_time": "2025-07-03T14:44:27.499599",
     "status": "completed"
    },
    "tags": []
   },
   "source": [
    "## Pre-processing\n",
    "\n",
    "### Feature Selection\n",
    "With only 7 features, **feature selection is not necessary**.\n",
    "\n",
    "### Missing Values\n",
    "For numeric columns, we will use the median or mean to fill in missing values, while for categorical columns, we will use the mode. This strategy **preserves the size and integrity of our dataset**, ensuring we do not lose valuable information due to moderate missingness.\n",
    "\n",
    "### Normalization\n",
    "Since the **numeric columns do not have outliers**, **Min-Max normalization** is a suitable choice. It scales features to a fixed range, typically , preserving the original distribution shape and making features comparable.\n",
    "\n",
    "### Encoding\n",
    "I used encoding techniques such as **label encoding** to transform categorical variables (Stage_fear, Drained_after_socializing) into numeric values, making them suitable for machine learning algorithms that require numerical input. \n",
    "\n",
    "### Transformation\n",
    "All transformations are fit exclusively on X_train; otherwise, if each set computes its own imputation, scaling, or encoding, information from X_test can leak into the transformation process."
   ]
  },
  {
   "cell_type": "code",
   "execution_count": 11,
   "id": "4192525e",
   "metadata": {
    "_kg_hide-input": true,
    "execution": {
     "iopub.execute_input": "2025-07-03T14:44:27.518400Z",
     "iopub.status.busy": "2025-07-03T14:44:27.517866Z",
     "iopub.status.idle": "2025-07-03T14:44:27.564130Z",
     "shell.execute_reply": "2025-07-03T14:44:27.563282Z"
    },
    "papermill": {
     "duration": 0.054618,
     "end_time": "2025-07-03T14:44:27.565719",
     "exception": false,
     "start_time": "2025-07-03T14:44:27.511101",
     "status": "completed"
    },
    "tags": []
   },
   "outputs": [],
   "source": [
    "# Load datasets\n",
    "competition_data = pd.read_csv(competition_train_path)\n",
    "original_data = pd.read_csv(original_data_path)\n",
    "\n",
    "# Split features and target for both datasets\n",
    "competition_features = competition_data.drop(columns=[competition_data.columns[-1], \"id\"])\n",
    "competition_target = competition_data[[competition_data.columns[-1]]]\n",
    "original_features = original_data.drop(columns=[original_data.columns[-1]])\n",
    "original_target = original_data[[original_data.columns[-1]]]\n",
    "\n",
    "# Concatenate features and targets vertically\n",
    "combined_train_pd = pd.concat([competition_features, original_features], axis=0, ignore_index=True)\n",
    "combined_target_pd = pd.concat([competition_target, original_target], axis=0, ignore_index=True)"
   ]
  },
  {
   "cell_type": "code",
   "execution_count": 12,
   "id": "6e20e0e2",
   "metadata": {
    "_kg_hide-input": true,
    "execution": {
     "iopub.execute_input": "2025-07-03T14:44:27.579175Z",
     "iopub.status.busy": "2025-07-03T14:44:27.578618Z",
     "iopub.status.idle": "2025-07-03T14:44:27.583770Z",
     "shell.execute_reply": "2025-07-03T14:44:27.582951Z"
    },
    "papermill": {
     "duration": 0.013235,
     "end_time": "2025-07-03T14:44:27.585125",
     "exception": false,
     "start_time": "2025-07-03T14:44:27.571890",
     "status": "completed"
    },
    "tags": []
   },
   "outputs": [],
   "source": [
    "# Preprocessing pipeline\n",
    "numeric_transformer = Pipeline([\n",
    "    ('imputer', SimpleImputer(strategy='mean')),\n",
    "    ('scaler', MinMaxScaler())\n",
    "])\n",
    "\n",
    "categorical_transformer = Pipeline([\n",
    "    ('imputer', SimpleImputer(strategy='most_frequent')),\n",
    "    ('encoder', OrdinalEncoder()) \n",
    "])\n",
    "preprocessor = ColumnTransformer([\n",
    "    ('num', numeric_transformer, numerical_cols),\n",
    "    ('cat', categorical_transformer, categorical_cols)\n",
    "])\n",
    "\n",
    "target_transformer = Pipeline([\n",
    "    ('encoder', OrdinalEncoder())\n",
    "])"
   ]
  },
  {
   "cell_type": "markdown",
   "id": "4fb927d7",
   "metadata": {
    "papermill": {
     "duration": 0.005976,
     "end_time": "2025-07-03T14:44:27.597072",
     "exception": false,
     "start_time": "2025-07-03T14:44:27.591096",
     "status": "completed"
    },
    "tags": []
   },
   "source": [
    "## Modeling\n",
    "This is a supervised binary classification problem, so I will start with models suited for tabular binary classification:\n",
    "- Logistic Regression\n",
    "- Random Forest Classifier\n",
    "- Gradient Boosting Machines (e.g., XGBoost, LightGBM, CatBoost)\n",
    "- Support Vector Machine (SVM)\n",
    "- Neural Networks (MLPClassifier for tabular data)\n",
    "  \n",
    "Since LightGBM achieved the highest performance, I selected it for further hyperparameter tuning.\n",
    "\n",
    "### Tuning\n",
    "Hyperparameter tuning directly impacts a model’s structure, learning process, and final performance, allowing me to optimize accuracy, generalization, and training efficiency. I chose Bayesian optimization because it reduces the number of evaluations needed to find strong hyperparameter settings, saving both time and computational resources."
   ]
  },
  {
   "cell_type": "code",
   "execution_count": 13,
   "id": "60be0f5e",
   "metadata": {
    "_kg_hide-input": true,
    "execution": {
     "iopub.execute_input": "2025-07-03T14:44:27.610490Z",
     "iopub.status.busy": "2025-07-03T14:44:27.609713Z",
     "iopub.status.idle": "2025-07-03T14:44:27.614403Z",
     "shell.execute_reply": "2025-07-03T14:44:27.613611Z"
    },
    "papermill": {
     "duration": 0.012805,
     "end_time": "2025-07-03T14:44:27.615802",
     "exception": false,
     "start_time": "2025-07-03T14:44:27.602997",
     "status": "completed"
    },
    "tags": []
   },
   "outputs": [],
   "source": [
    "def run_model(model, X_train, y_train, X_test, y_test):\n",
    "    \"\"\"\n",
    "    Fits the model, makes predictions, and returns accuracy.\n",
    "    \"\"\"\n",
    "    model.fit(X_train, y_train)\n",
    "    preds = model.predict(X_test)\n",
    "    return {\n",
    "        'preds': preds,\n",
    "        'accuracy': accuracy_score(y_test, preds),\n",
    "    }"
   ]
  },
  {
   "cell_type": "code",
   "execution_count": 14,
   "id": "20e71b24",
   "metadata": {
    "_kg_hide-input": true,
    "execution": {
     "iopub.execute_input": "2025-07-03T14:44:27.629094Z",
     "iopub.status.busy": "2025-07-03T14:44:27.628486Z",
     "iopub.status.idle": "2025-07-03T14:44:27.639477Z",
     "shell.execute_reply": "2025-07-03T14:44:27.638684Z"
    },
    "papermill": {
     "duration": 0.01905,
     "end_time": "2025-07-03T14:44:27.640874",
     "exception": false,
     "start_time": "2025-07-03T14:44:27.621824",
     "status": "completed"
    },
    "tags": []
   },
   "outputs": [],
   "source": [
    "RANDOM_STATE = 42\n",
    "MODEL_SELECTED = True\n",
    "\n",
    "if MODEL_SELECTED == False: \n",
    "    # Stratified K-Fold with pipeline\n",
    "    skf = StratifiedKFold(n_splits=5, shuffle=True, random_state=RANDOM_STATE)\n",
    "    X = combined_train_pd\n",
    "    y = combined_target_pd\n",
    "    \n",
    "    results = {\n",
    "        'LogisticRegression': [],\n",
    "        'RandomForest': [],\n",
    "        'XGBoost': [],\n",
    "        'LightGBM': [],\n",
    "        'CatBoost': [],\n",
    "        'SVM': [],\n",
    "        'MLPClassifier': []\n",
    "    }\n",
    "    \n",
    "    for fold, (train_idx, test_idx) in enumerate(skf.split(X, y)):\n",
    "        X_train, X_test = X.iloc[train_idx], X.iloc[test_idx]\n",
    "        y_train, y_test = y.iloc[train_idx], y.iloc[test_idx]\n",
    "        \n",
    "        # Fit only on training data, transform all\n",
    "        X_train = preprocessor.fit_transform(X_train)\n",
    "        X_test = preprocessor.transform(X_test)\n",
    "        y_train = target_transformer.fit_transform(y_train)\n",
    "        y_test = target_transformer.transform(y_test)\n",
    "    \n",
    "        # Fix target shape\n",
    "        y_train = y_train.ravel()\n",
    "        y_test = y_test.ravel()\n",
    "    \n",
    "        # Logistic Regression\n",
    "        lr = LogisticRegression(max_iter=1000, random_state=RANDOM_STATE)\n",
    "        results['LogisticRegression'].append(\n",
    "            run_model(lr, X_train, y_train, X_test, y_test)\n",
    "        )\n",
    "    \n",
    "        # Random Forest\n",
    "        rf = RandomForestClassifier(n_estimators=100, random_state=RANDOM_STATE)\n",
    "        results['RandomForest'].append(\n",
    "            run_model(rf, X_train, y_train, X_test, y_test)\n",
    "        )\n",
    "    \n",
    "        # XGBoost\n",
    "        xgb = XGBClassifier(use_label_encoder=False, eval_metric='logloss', random_state=RANDOM_STATE)\n",
    "        results['XGBoost'].append(\n",
    "            run_model(xgb, X_train, y_train, X_test, y_test)\n",
    "        )\n",
    "    \n",
    "        # LightGBM\n",
    "        lgbm = LGBMClassifier(random_state=RANDOM_STATE)\n",
    "        results['LightGBM'].append(\n",
    "            run_model(lgbm, X_train, y_train, X_test, y_test)\n",
    "        )\n",
    "    \n",
    "        # CatBoost\n",
    "        catboost = CatBoostClassifier(verbose=0, random_state=RANDOM_STATE)\n",
    "        results['CatBoost'].append(\n",
    "            run_model(catboost, X_train, y_train, X_test, y_test)\n",
    "        )\n",
    "    \n",
    "        # SVM (Support Vector Machine)\n",
    "        svm = SVC(probability=True, random_state=RANDOM_STATE)\n",
    "        results['SVM'].append(\n",
    "            run_model(svm, X_train, y_train, X_test, y_test)\n",
    "        )\n",
    "    \n",
    "        # MLPClassifier (Neural Network)\n",
    "        mlp = MLPClassifier(hidden_layer_sizes=(100,), max_iter=500, random_state=RANDOM_STATE)\n",
    "        results['MLPClassifier'].append(\n",
    "            run_model(mlp, X_train, y_train, X_test, y_test)\n",
    "        )\n",
    "    \n",
    "clear_output()"
   ]
  },
  {
   "cell_type": "code",
   "execution_count": 15,
   "id": "9246a023",
   "metadata": {
    "_kg_hide-input": true,
    "execution": {
     "iopub.execute_input": "2025-07-03T14:44:27.654088Z",
     "iopub.status.busy": "2025-07-03T14:44:27.653508Z",
     "iopub.status.idle": "2025-07-03T14:44:27.658062Z",
     "shell.execute_reply": "2025-07-03T14:44:27.657455Z"
    },
    "papermill": {
     "duration": 0.012372,
     "end_time": "2025-07-03T14:44:27.659339",
     "exception": false,
     "start_time": "2025-07-03T14:44:27.646967",
     "status": "completed"
    },
    "tags": []
   },
   "outputs": [],
   "source": [
    "if MODEL_SELECTED == False: \n",
    "    average_accuracies = {\n",
    "        model: sum(fold['accuracy'] for fold in folds) / len(folds)\n",
    "        for model, folds in results.items()\n",
    "    }\n",
    "    sorted_models = sorted(average_accuracies.items(), key=lambda x: x[1], reverse=True)\n",
    "    sorted_models"
   ]
  },
  {
   "cell_type": "code",
   "execution_count": 16,
   "id": "cd230cbd",
   "metadata": {
    "_kg_hide-input": true,
    "_kg_hide-output": true,
    "execution": {
     "iopub.execute_input": "2025-07-03T14:44:27.672573Z",
     "iopub.status.busy": "2025-07-03T14:44:27.672215Z",
     "iopub.status.idle": "2025-07-03T14:44:27.722999Z",
     "shell.execute_reply": "2025-07-03T14:44:27.722206Z"
    },
    "papermill": {
     "duration": 0.059006,
     "end_time": "2025-07-03T14:44:27.724396",
     "exception": false,
     "start_time": "2025-07-03T14:44:27.665390",
     "status": "completed"
    },
    "tags": []
   },
   "outputs": [],
   "source": [
    "X_for_tuning = preprocessor.fit_transform(combined_train_pd)\n",
    "y_for_tuning = target_transformer.fit_transform(combined_target_pd)\n",
    "\n",
    "def objective_lgbm(trial):\n",
    "    params = {\n",
    "        'num_leaves': trial.suggest_int('num_leaves', 20, 128),\n",
    "        'max_depth': trial.suggest_int('max_depth', 3, 10),\n",
    "        'learning_rate': trial.suggest_float('learning_rate', 1e-3, 0.2, log=True),\n",
    "        'n_estimators': trial.suggest_int('n_estimators', 100, 500),\n",
    "        'min_child_samples': trial.suggest_int('min_child_samples', 5, 50),\n",
    "        'subsample': trial.suggest_float('subsample', 0.6, 1.0),\n",
    "        'colsample_bytree': trial.suggest_float('colsample_bytree', 0.6, 1.0),\n",
    "        'random_state': RANDOM_STATE\n",
    "    }\n",
    "    model = LGBMClassifier(**params)\n",
    "    # Use cross-validation to evaluate\n",
    "    score = cross_val_score(model, X_for_tuning, y_for_tuning, cv=5, scoring='accuracy').mean()\n",
    "    return score\n",
    "\n",
    "# Objective function for CatBoost\n",
    "def objective_catboost(trial):\n",
    "    params = {\n",
    "        'depth': trial.suggest_int('depth', 3, 10),\n",
    "        'learning_rate': trial.suggest_float('learning_rate', 1e-3, 0.2, log=True),\n",
    "        'iterations': trial.suggest_int('iterations', 100, 500),\n",
    "        'l2_leaf_reg': trial.suggest_float('l2_leaf_reg', 1e-3, 10.0, log=True),\n",
    "        'border_count': trial.suggest_int('border_count', 32, 255),\n",
    "        'random_seed': RANDOM_STATE,\n",
    "        'verbose': False\n",
    "    }\n",
    "    model = CatBoostClassifier(**params)\n",
    "    score = cross_val_score(model, X_for_tuning, y_for_tuning, cv=5, scoring='accuracy').mean()\n",
    "    return score\n",
    "\n",
    "# Objective function for XGBoost\n",
    "def objective_xgb(trial):\n",
    "    params = {\n",
    "        'max_depth': trial.suggest_int('max_depth', 3, 10),\n",
    "        'learning_rate': trial.suggest_float('learning_rate', 1e-3, 0.2, log=True),\n",
    "        'n_estimators': trial.suggest_int('n_estimators', 100, 500),\n",
    "        'min_child_weight': trial.suggest_int('min_child_weight', 1, 10),\n",
    "        'subsample': trial.suggest_float('subsample', 0.6, 1.0),\n",
    "        'colsample_bytree': trial.suggest_float('colsample_bytree', 0.6, 1.0),\n",
    "        'random_state': RANDOM_STATE,\n",
    "        'use_label_encoder': False,\n",
    "        'eval_metric': 'logloss'\n",
    "    }\n",
    "    model = XGBClassifier(**params)\n",
    "    score = cross_val_score(model, X_for_tuning, y_for_tuning, cv=5, scoring='accuracy').mean()\n",
    "    return score\n",
    "\n",
    "\n",
    "#study_catboost = optuna.create_study(direction='maximize')\n",
    "#study_catboost.optimize(objective_catboost, n_trials=50)\n",
    "#study_xgb = optuna.create_study(direction='maximize')\n",
    "#study_xgb.optimize(objective_xgb, n_trials=50)\n",
    "#study_lgbm = optuna.create_study(direction='maximize')\n",
    "#study_lgbm.optimize(objective_lgbm, n_trials=50)\n",
    "clear_output()"
   ]
  },
  {
   "cell_type": "code",
   "execution_count": 17,
   "id": "00b2968d",
   "metadata": {
    "_kg_hide-input": true,
    "_kg_hide-output": true,
    "execution": {
     "iopub.execute_input": "2025-07-03T14:44:27.737538Z",
     "iopub.status.busy": "2025-07-03T14:44:27.736983Z",
     "iopub.status.idle": "2025-07-03T14:44:27.740442Z",
     "shell.execute_reply": "2025-07-03T14:44:27.739702Z"
    },
    "papermill": {
     "duration": 0.011151,
     "end_time": "2025-07-03T14:44:27.741674",
     "exception": false,
     "start_time": "2025-07-03T14:44:27.730523",
     "status": "completed"
    },
    "tags": []
   },
   "outputs": [],
   "source": [
    "#print(\"Best parameters:\", study_xgb.best_params)\n",
    "#print(\"Best parameters:\", study_catboost.best_params)\n",
    "#print(\"Best parameters:\", study_lgbm.best_params)"
   ]
  },
  {
   "cell_type": "code",
   "execution_count": 18,
   "id": "85572526",
   "metadata": {
    "_kg_hide-input": true,
    "_kg_hide-output": true,
    "execution": {
     "iopub.execute_input": "2025-07-03T14:44:27.754850Z",
     "iopub.status.busy": "2025-07-03T14:44:27.754141Z",
     "iopub.status.idle": "2025-07-03T14:44:27.765976Z",
     "shell.execute_reply": "2025-07-03T14:44:27.765156Z"
    },
    "papermill": {
     "duration": 0.019572,
     "end_time": "2025-07-03T14:44:27.767243",
     "exception": false,
     "start_time": "2025-07-03T14:44:27.747671",
     "status": "completed"
    },
    "tags": []
   },
   "outputs": [],
   "source": [
    "xgb_params = {\n",
    "    'max_depth': 6, \n",
    "    'learning_rate': 0.002662020358149838, \n",
    "    'n_estimators': 461, \n",
    "    'min_child_weight': 3, \n",
    "    'subsample': 0.7850817328023146, \n",
    "    'colsample_bytree': 0.8460871042337839\n",
    "}\n",
    "catboost_params = {\n",
    "    'depth': 5, \n",
    "    'learning_rate': 0.009296752469799859, \n",
    "    'iterations': 278, \n",
    "    'l2_leaf_reg': 0.013669387846498373, \n",
    "    'border_count': 240\n",
    "}\n",
    "lgbm_params = {\n",
    "    'num_leaves': 63, \n",
    "    'max_depth': 5, \n",
    "    'learning_rate': 0.00573052179759354, \n",
    "    'n_estimators': 200, \n",
    "    'min_child_samples': 16, \n",
    "    'subsample': 0.7254193460077228, \n",
    "    'colsample_bytree': 0.7337516410826076\n",
    "}\n",
    "lgbm = LGBMClassifier(**lgbm_params, random_state=RANDOM_STATE)\n",
    "catboost = CatBoostClassifier(**catboost_params, random_state=RANDOM_STATE, verbose=0)\n",
    "xgb = XGBClassifier(**xgb_params, random_state=RANDOM_STATE)\n",
    "\n",
    "ensemble = VotingClassifier(\n",
    "    estimators=[\n",
    "        ('lgbm', lgbm),\n",
    "        ('catboost', catboost),\n",
    "        ('xgb', xgb)\n",
    "    ],\n",
    "    voting='soft' \n",
    ")\n",
    "FINAL_MODEL = ensemble"
   ]
  },
  {
   "cell_type": "markdown",
   "id": "f55218ec",
   "metadata": {
    "execution": {
     "iopub.execute_input": "2025-07-02T10:00:16.841150Z",
     "iopub.status.busy": "2025-07-02T10:00:16.840807Z",
     "iopub.status.idle": "2025-07-02T10:00:16.848819Z",
     "shell.execute_reply": "2025-07-02T10:00:16.848027Z",
     "shell.execute_reply.started": "2025-07-02T10:00:16.841119Z"
    },
    "papermill": {
     "duration": 0.005572,
     "end_time": "2025-07-03T14:44:27.778860",
     "exception": false,
     "start_time": "2025-07-03T14:44:27.773288",
     "status": "completed"
    },
    "tags": []
   },
   "source": [
    "# Submission"
   ]
  },
  {
   "cell_type": "code",
   "execution_count": 19,
   "id": "53864360",
   "metadata": {
    "_kg_hide-input": true,
    "_kg_hide-output": true,
    "execution": {
     "iopub.execute_input": "2025-07-03T14:44:27.791534Z",
     "iopub.status.busy": "2025-07-03T14:44:27.791244Z",
     "iopub.status.idle": "2025-07-03T14:44:30.048256Z",
     "shell.execute_reply": "2025-07-03T14:44:30.047555Z"
    },
    "papermill": {
     "duration": 2.265337,
     "end_time": "2025-07-03T14:44:30.049983",
     "exception": false,
     "start_time": "2025-07-03T14:44:27.784646",
     "status": "completed"
    },
    "tags": []
   },
   "outputs": [],
   "source": [
    "test = pd.read_csv(\"/kaggle/input/playground-series-s5e7/test.csv\")\n",
    "test = test.drop(columns=[\"id\"])\n",
    "\n",
    "X = preprocessor.fit_transform(combined_train_pd)\n",
    "y = target_transformer.fit_transform(combined_target_pd).ravel()\n",
    "test = preprocessor.transform(test)\n",
    "FINAL_MODEL.fit(X, y)\n",
    "preds = FINAL_MODEL.predict(test)\n",
    "clear_output()"
   ]
  },
  {
   "cell_type": "code",
   "execution_count": 20,
   "id": "687d3f74",
   "metadata": {
    "_kg_hide-input": true,
    "execution": {
     "iopub.execute_input": "2025-07-03T14:44:30.063538Z",
     "iopub.status.busy": "2025-07-03T14:44:30.062834Z",
     "iopub.status.idle": "2025-07-03T14:44:30.104166Z",
     "shell.execute_reply": "2025-07-03T14:44:30.103292Z"
    },
    "papermill": {
     "duration": 0.049461,
     "end_time": "2025-07-03T14:44:30.105647",
     "exception": false,
     "start_time": "2025-07-03T14:44:30.056186",
     "status": "completed"
    },
    "tags": []
   },
   "outputs": [
    {
     "data": {
      "text/html": [
       "<div>\n",
       "<style scoped>\n",
       "    .dataframe tbody tr th:only-of-type {\n",
       "        vertical-align: middle;\n",
       "    }\n",
       "\n",
       "    .dataframe tbody tr th {\n",
       "        vertical-align: top;\n",
       "    }\n",
       "\n",
       "    .dataframe thead th {\n",
       "        text-align: right;\n",
       "    }\n",
       "</style>\n",
       "<table border=\"1\" class=\"dataframe\">\n",
       "  <thead>\n",
       "    <tr style=\"text-align: right;\">\n",
       "      <th></th>\n",
       "      <th>id</th>\n",
       "      <th>Personality</th>\n",
       "    </tr>\n",
       "  </thead>\n",
       "  <tbody>\n",
       "    <tr>\n",
       "      <th>0</th>\n",
       "      <td>18524</td>\n",
       "      <td>Extrovert</td>\n",
       "    </tr>\n",
       "    <tr>\n",
       "      <th>1</th>\n",
       "      <td>18525</td>\n",
       "      <td>Introvert</td>\n",
       "    </tr>\n",
       "    <tr>\n",
       "      <th>2</th>\n",
       "      <td>18526</td>\n",
       "      <td>Extrovert</td>\n",
       "    </tr>\n",
       "    <tr>\n",
       "      <th>3</th>\n",
       "      <td>18527</td>\n",
       "      <td>Extrovert</td>\n",
       "    </tr>\n",
       "    <tr>\n",
       "      <th>4</th>\n",
       "      <td>18528</td>\n",
       "      <td>Introvert</td>\n",
       "    </tr>\n",
       "  </tbody>\n",
       "</table>\n",
       "</div>"
      ],
      "text/plain": [
       "      id Personality\n",
       "0  18524   Extrovert\n",
       "1  18525   Introvert\n",
       "2  18526   Extrovert\n",
       "3  18527   Extrovert\n",
       "4  18528   Introvert"
      ]
     },
     "execution_count": 20,
     "metadata": {},
     "output_type": "execute_result"
    }
   ],
   "source": [
    "preds = preds.astype(int)\n",
    "label_map = np.array([\"Extrovert\", \"Introvert\"])\n",
    "preds_labels = label_map[preds]\n",
    "submission = pd.read_csv(\"/kaggle/input/playground-series-s5e7/sample_submission.csv\")\n",
    "submission[\"Personality\"] = preds_labels\n",
    "submission.to_csv(\"submission.csv\", index=False)\n",
    "submission.head()"
   ]
  },
  {
   "cell_type": "code",
   "execution_count": null,
   "id": "c3b7435a",
   "metadata": {
    "papermill": {
     "duration": 0.005809,
     "end_time": "2025-07-03T14:44:30.117796",
     "exception": false,
     "start_time": "2025-07-03T14:44:30.111987",
     "status": "completed"
    },
    "tags": []
   },
   "outputs": [],
   "source": []
  }
 ],
 "metadata": {
  "kaggle": {
   "accelerator": "none",
   "dataSources": [
    {
     "databundleVersionId": 12738969,
     "isSourceIdPinned": false,
     "sourceId": 91718,
     "sourceType": "competition"
    },
    {
     "datasetId": 7474089,
     "sourceId": 12156348,
     "sourceType": "datasetVersion"
    }
   ],
   "dockerImageVersionId": 31040,
   "isGpuEnabled": false,
   "isInternetEnabled": true,
   "language": "python",
   "sourceType": "notebook"
  },
  "kernelspec": {
   "display_name": "Python 3",
   "language": "python",
   "name": "python3"
  },
  "language_info": {
   "codemirror_mode": {
    "name": "ipython",
    "version": 3
   },
   "file_extension": ".py",
   "mimetype": "text/x-python",
   "name": "python",
   "nbconvert_exporter": "python",
   "pygments_lexer": "ipython3",
   "version": "3.11.11"
  },
  "papermill": {
   "default_parameters": {},
   "duration": 19.020126,
   "end_time": "2025-07-03T14:44:31.144533",
   "environment_variables": {},
   "exception": null,
   "input_path": "__notebook__.ipynb",
   "output_path": "__notebook__.ipynb",
   "parameters": {},
   "start_time": "2025-07-03T14:44:12.124407",
   "version": "2.6.0"
  }
 },
 "nbformat": 4,
 "nbformat_minor": 5
}
